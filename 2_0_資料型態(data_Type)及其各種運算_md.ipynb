{
  "nbformat": 4,
  "nbformat_minor": 0,
  "metadata": {
    "colab": {
      "name": "2_0_資料型態(data Type)及其各種運算.md",
      "provenance": [],
      "authorship_tag": "ABX9TyN8UIpx02PPieztqWIboOM/",
      "include_colab_link": true
    },
    "kernelspec": {
      "name": "python3",
      "display_name": "Python 3"
    }
  },
  "cells": [
    {
      "cell_type": "markdown",
      "metadata": {
        "id": "view-in-github",
        "colab_type": "text"
      },
      "source": [
        "<a href=\"https://colab.research.google.com/github/TaiHo1944/u32784194/blob/master/2_0_%E8%B3%87%E6%96%99%E5%9E%8B%E6%85%8B(data_Type)%E5%8F%8A%E5%85%B6%E5%90%84%E7%A8%AE%E9%81%8B%E7%AE%97_md.ipynb\" target=\"_parent\"><img src=\"https://colab.research.google.com/assets/colab-badge.svg\" alt=\"Open In Colab\"/></a>"
      ]
    },
    {
      "cell_type": "markdown",
      "metadata": {
        "id": "Qqf1FnpCP8y7"
      },
      "source": [
        "眾多資料型態(data Type)及其各種運算\n",
        ">* 數值(Numeric)資料及其運算\n",
        ">* 字串(string)及其運算\n",
        ">* 列表(list)資料及其運算\n",
        ">* 字典(dict)資料及其運算  \n",
        ">*[自我練習]tuple資料及其運算  \n",
        ">*[自我練習]set資料及其運算 \n",
        " 本課程規劃讓同學快速掌握python程式的開發技術\n",
        " 還有更多技術及細節 請務必閱讀更多教材深入"
      ]
    },
    {
      "cell_type": "code",
      "metadata": {
        "id": "SkL0MSnrP-gZ",
        "outputId": "7590f90f-ec39-4a89-db58-692dc1704f1e",
        "colab": {
          "base_uri": "https://localhost:8080/",
          "height": 51
        }
      },
      "source": [
        "from queue import Queue\n",
        "q = Queue()\n",
        "q.put(1)\n",
        "q.put(2)\n",
        "q.put(3)\n",
        "q\n",
        "print(q.queue)\n",
        "\n",
        "q.get()"
      ],
      "execution_count": 1,
      "outputs": [
        {
          "output_type": "stream",
          "text": [
            "deque([1, 2, 3])\n"
          ],
          "name": "stdout"
        },
        {
          "output_type": "execute_result",
          "data": {
            "text/plain": [
              "1"
            ]
          },
          "metadata": {
            "tags": []
          },
          "execution_count": 1
        }
      ]
    },
    {
      "cell_type": "markdown",
      "metadata": {
        "id": "uQinwH0DQBBU"
      },
      "source": [
        "快速入門\n",
        "數值(Numeric)資料及其運算"
      ]
    },
    {
      "cell_type": "code",
      "metadata": {
        "id": "3131_l_mQCOe",
        "outputId": "73592c1e-6f14-42f3-f62e-0063d4c9dd54",
        "colab": {
          "base_uri": "https://localhost:8080/",
          "height": 34
        }
      },
      "source": [
        "a = 17 / 3\n",
        "b = 17 // 3\n",
        "c = 17 % 3\n",
        "\n",
        "a,b,c"
      ],
      "execution_count": 2,
      "outputs": [
        {
          "output_type": "execute_result",
          "data": {
            "text/plain": [
              "(5.666666666666667, 5, 2)"
            ]
          },
          "metadata": {
            "tags": []
          },
          "execution_count": 2
        }
      ]
    },
    {
      "cell_type": "markdown",
      "metadata": {
        "id": "-SAuiDgPQEXt"
      },
      "source": [
        "字串(string)及其運算\n",
        "\n",
        "var1 = 'Hello Python!'\n",
        " \n",
        "print(\"var1[0]: \", var1[0])\n",
        "print(\"var1[1:8]: \", var1[1:8])\n",
        "\n",
        "變數值以一對雙引號 (「\"」)或單引號 (「'」)\n",
        "存取字串中的值: 使用方括號\n",
        "列表(list)資料及其運算\n",
        "\n",
        "\n",
        "list1 = [21, 33, 14, 12, 32,98]\n",
        "\n",
        "list1[1]\n",
        "len(list1)\n",
        "max(list1)\n",
        "min(list1)\n",
        "sum(list1)\n",
        "\n",
        "list是Python中最基本的資料結構。\n",
        "創建一個list，只要把逗號分隔的不同的資料項目使用方括號括起來即可\n",
        "list中的每個元素都分配一個數字(位置|索引)，第一個索引是0，第二個索引是1，依此類推。\n",
        "list都可以進行的操作包括索引，切片，加，乘，檢查成員。\n",
        "Python已經內置確定list的長度以及確定最大和最小的元素的方法。\n",
        "字典(dict)資料及其運算 \n",
        " \n",
        "dict = {'Name': 'DaDaLong', 'Age': 17, 'Class': 'First'}\n",
        " \n",
        "print(\"dict['Name']: \", dict['Name'])\n",
        "print(\"dict['Age']: \", dict['Age'])\n",
        "\n",
        "字典的每個鍵值(key=>value)對  用冒號(:)分割，\n",
        "每個對之間用逗號(,)分割，\n",
        "整個字典包括在花括弧({})\n",
        "\n",
        "d = {key1 : value1, key2 : value2 }\n",
        "\n",
        "鍵必須是唯一的，但值則不必。\n",
        "\n",
        "值可以取任何資料類型，\n",
        "但鍵必須是不可變的，如字串，數位或元組。\n",
        "資料型態( Data Type)學習重點:\n",
        "各種運算\n",
        "各種內建函數\n",
        "型態轉換\n",
        "運算優先順序\n",
        "字串(string)及其運算\n",
        "列表(list)資料及其運算\n",
        "字典(dict)資料及其運算"
      ]
    },
    {
      "cell_type": "code",
      "metadata": {
        "id": "MzC4GM24QWng"
      },
      "source": [
        ""
      ],
      "execution_count": null,
      "outputs": []
    }
  ]
}