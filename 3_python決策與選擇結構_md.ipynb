{
  "nbformat": 4,
  "nbformat_minor": 0,
  "metadata": {
    "colab": {
      "name": "3_python決策與選擇結構.md",
      "provenance": [],
      "authorship_tag": "ABX9TyM6jf6eMStV0ZCzBfdy7uMd",
      "include_colab_link": true
    },
    "kernelspec": {
      "name": "python3",
      "display_name": "Python 3"
    }
  },
  "cells": [
    {
      "cell_type": "markdown",
      "metadata": {
        "id": "view-in-github",
        "colab_type": "text"
      },
      "source": [
        "<a href=\"https://colab.research.google.com/github/TaiHo1944/u32784194/blob/master/3_python%E6%B1%BA%E7%AD%96%E8%88%87%E9%81%B8%E6%93%87%E7%B5%90%E6%A7%8B_md.ipynb\" target=\"_parent\"><img src=\"https://colab.research.google.com/assets/colab-badge.svg\" alt=\"Open In Colab\"/></a>"
      ]
    },
    {
      "cell_type": "markdown",
      "metadata": {
        "id": "UZQPc4keVAZX"
      },
      "source": [
        "python決策與選擇結構\n",
        "[1]if\n",
        "[2]if ...elsif\n",
        "[3]if ...else\n",
        "[4]if ...elsif ...else\n",
        "[5]各種判斷條件\n",
        "   AND\n",
        "   OR\n",
        "單向判斷式（if⋯）: 是非題｜對的才要做\n",
        "雙向判斷式（if⋯else）: 二選一｜一定要選的\n",
        "多向判斷式（if⋯elif⋯else）: 多選一｜一定要選的\n",
        "程式流程控制　之 選擇(判斷) SELECTION /DECISION\n",
        "Python 程式碼縮排\n",
        "Python 語言以冒號「:」及縮排來表示程式區塊\n",
        "縮排為 1 個 Tab 鍵或 4 個空白鍵\n",
        "PS: Python沒有switch\n",
        "\n",
        "https://www.w3schools.com/python/python_conditions.asp"
      ]
    },
    {
      "cell_type": "markdown",
      "metadata": {
        "id": "7jQPzJ8kVC5q"
      },
      "source": [
        "[1]if"
      ]
    },
    {
      "cell_type": "code",
      "metadata": {
        "id": "zyeL27MJU1m2",
        "outputId": "3dff5c8d-71e3-4602-a8e6-b2b3f85a0d71",
        "colab": {
          "base_uri": "https://localhost:8080/",
          "height": 34
        }
      },
      "source": [
        "a = 33\n",
        "b = 200\n",
        "\n",
        "if b > a:\n",
        "  print(\"b is greater than a\")"
      ],
      "execution_count": 1,
      "outputs": [
        {
          "output_type": "stream",
          "text": [
            "b is greater than a\n"
          ],
          "name": "stdout"
        }
      ]
    },
    {
      "cell_type": "code",
      "metadata": {
        "id": "GKqf2uBVVErp"
      },
      "source": [
        "a = 33\n",
        "b = 20\n",
        "\n",
        "if b > a:\n",
        "  print(\"b is greater than a\")"
      ],
      "execution_count": 3,
      "outputs": []
    },
    {
      "cell_type": "markdown",
      "metadata": {
        "id": "4Y7mtGKPVHv9"
      },
      "source": [
        "[2]if ...elsif"
      ]
    },
    {
      "cell_type": "code",
      "metadata": {
        "id": "VugCRdVXVI5E",
        "outputId": "c2b7c261-0ec2-4f82-e3f4-41c1228eaf9d",
        "colab": {
          "base_uri": "https://localhost:8080/",
          "height": 34
        }
      },
      "source": [
        "a = 32\n",
        "b = 33\n",
        "\n",
        "if b > a:\n",
        "  print(\"b is greater than a\")\n",
        "elif a == b:\n",
        "  print(\"a and b are equal\")\n"
      ],
      "execution_count": 4,
      "outputs": [
        {
          "output_type": "stream",
          "text": [
            "b is greater than a\n"
          ],
          "name": "stdout"
        }
      ]
    },
    {
      "cell_type": "code",
      "metadata": {
        "id": "uEemM067VK8u",
        "outputId": "ae21d268-ce4e-4f06-c359-2c748c6ce83a",
        "colab": {
          "base_uri": "https://localhost:8080/",
          "height": 34
        }
      },
      "source": [
        "a = 33\n",
        "b = 33\n",
        "if b > a:\n",
        "  print(\"b is greater than a\")\n",
        "elif a == b:\n",
        "  print(\"a and b are equal\")"
      ],
      "execution_count": 5,
      "outputs": [
        {
          "output_type": "stream",
          "text": [
            "a and b are equal\n"
          ],
          "name": "stdout"
        }
      ]
    },
    {
      "cell_type": "code",
      "metadata": {
        "id": "kB7oMVXpVMbH"
      },
      "source": [
        "a = 35\n",
        "b = 33\n",
        "\n",
        "if b > a:\n",
        "  print(\"b is greater than a\")\n",
        "elif a == b:\n",
        "  print(\"a and b are equal\")"
      ],
      "execution_count": 6,
      "outputs": []
    },
    {
      "cell_type": "markdown",
      "metadata": {
        "id": "Qzv7kMq8VOEY"
      },
      "source": [
        "雙向判斷式（if⋯else）: 二選一｜一定要選的"
      ]
    },
    {
      "cell_type": "code",
      "metadata": {
        "id": "XvbJB0_qVPT1",
        "outputId": "ac1c8a76-8b51-438f-a56b-3e71290358b7",
        "colab": {
          "base_uri": "https://localhost:8080/",
          "height": 34
        }
      },
      "source": [
        "a = 200\n",
        "b = 33\n",
        "\n",
        "if b > a:\n",
        "  print(\"b is greater than a\")\n",
        "else:\n",
        "  print(\"b is not greater than a\")"
      ],
      "execution_count": 7,
      "outputs": [
        {
          "output_type": "stream",
          "text": [
            "b is not greater than a\n"
          ],
          "name": "stdout"
        }
      ]
    },
    {
      "cell_type": "markdown",
      "metadata": {
        "id": "5qVdZGRnVQhh"
      },
      "source": [
        "[4]if ...elsif ...else 多選一｜一定要選的"
      ]
    },
    {
      "cell_type": "code",
      "metadata": {
        "id": "QQFTQ_hBVRgF"
      },
      "source": [
        "a = 200\n",
        "b = 33\n",
        "\n",
        "if b > a:\n",
        "  print(\"b is greater than a\")\n",
        "elif a == b:\n",
        "  print(\"a and b are equal\")\n",
        "else:\n",
        "  print(\"a is greater than b\")"
      ],
      "execution_count": null,
      "outputs": []
    },
    {
      "cell_type": "markdown",
      "metadata": {
        "id": "Qtrj0xkMVSml"
      },
      "source": [
        "[5]各種判斷條件 AND OR\n",
        "#判斷是否為閏年"
      ]
    },
    {
      "cell_type": "code",
      "metadata": {
        "id": "-7ZuGXg1VVM6",
        "outputId": "41a90e92-a3e1-4818-d7ae-56f20b6117b9",
        "colab": {
          "base_uri": "https://localhost:8080/",
          "height": 51
        }
      },
      "source": [
        "year= eval(input(\"請輸入年\"))\n",
        "\n",
        "if ((year%400==0) or (year%4==0 and year%100!=0)):\n",
        "  print(\"{0} 是閏年\".format(year))\n",
        "else:\n",
        "  print(\"{0} 不是閏年\".format(year))"
      ],
      "execution_count": 8,
      "outputs": [
        {
          "output_type": "stream",
          "text": [
            "請輸入年2000\n",
            "2000 是閏年\n"
          ],
          "name": "stdout"
        }
      ]
    },
    {
      "cell_type": "code",
      "metadata": {
        "id": "et6AI9vYVXdk"
      },
      "source": [
        "歲月匆匆程式開發\n",
        "輸入:年月日\n",
        "輸出:已經過了多少日"
      ],
      "execution_count": null,
      "outputs": []
    },
    {
      "cell_type": "code",
      "metadata": {
        "id": "hOkasgkCVYhj",
        "outputId": "fcabd46d-7aef-469a-eb3a-b53bdb649f0c",
        "colab": {
          "base_uri": "https://localhost:8080/",
          "height": 34
        }
      },
      "source": [
        "import time\n",
        "\n",
        "date = time.localtime()\t\n",
        "print(date)"
      ],
      "execution_count": 9,
      "outputs": [
        {
          "output_type": "stream",
          "text": [
            "time.struct_time(tm_year=2020, tm_mon=10, tm_mday=15, tm_hour=12, tm_min=56, tm_sec=47, tm_wday=3, tm_yday=289, tm_isdst=0)\n"
          ],
          "name": "stdout"
        }
      ]
    },
    {
      "cell_type": "code",
      "metadata": {
        "id": "B-tXstk6VaNB",
        "outputId": "f93ee9ce-0dce-4bf7-e3bf-d0c91bf2f43b",
        "colab": {
          "base_uri": "https://localhost:8080/",
          "height": 51
        }
      },
      "source": [
        "year, month, day = eval(input(\"請輸入年月日\"))\n",
        "year, month, day\n"
      ],
      "execution_count": 12,
      "outputs": [
        {
          "output_type": "stream",
          "text": [
            "請輸入年月日2019,5,22\n"
          ],
          "name": "stdout"
        },
        {
          "output_type": "execute_result",
          "data": {
            "text/plain": [
              "(2019, 5, 22)"
            ]
          },
          "metadata": {
            "tags": []
          },
          "execution_count": 12
        }
      ]
    },
    {
      "cell_type": "code",
      "metadata": {
        "id": "TkFgBNjdVk9k",
        "outputId": "d1362138-a92f-4b08-8637-a47561541cf2",
        "colab": {
          "base_uri": "https://localhost:8080/",
          "height": 34
        }
      },
      "source": [
        "import time\n",
        "\n",
        "\n",
        "#date = time.localtime()\t\t#取得目前的日期時間\n",
        "#year = date[0]\n",
        "#month = date[1]\n",
        "#day = date[2]\n",
        "\n",
        "year, month, day = eval(input(\"請輸入年月日::\"))"
      ],
      "execution_count": 14,
      "outputs": [
        {
          "output_type": "stream",
          "text": [
            "請輸入年月日::2019,5,22\n"
          ],
          "name": "stdout"
        }
      ]
    },
    {
      "cell_type": "code",
      "metadata": {
        "id": "cZiOX_B_Vq_9"
      },
      "source": [
        "day_month = [31, 28, 31, 30, 31, 30, 31, 31, 30, 31, 30, 31]\n",
        "\n",
        "if year%400==0 or (year%4==0 and year%100!=0):\t\n",
        "  day_month[1] = 29"
      ],
      "execution_count": 15,
      "outputs": []
    },
    {
      "cell_type": "code",
      "metadata": {
        "id": "iCXqP_MHVsez",
        "outputId": "34281ae7-4d60-4c3e-9fd1-70e1374a1ea2",
        "colab": {
          "base_uri": "https://localhost:8080/",
          "height": 34
        }
      },
      "source": [
        "if month==1:\n",
        "    print(day)\n",
        "else:\n",
        "    print(sum(day_month[:month-1])+day)"
      ],
      "execution_count": 16,
      "outputs": [
        {
          "output_type": "stream",
          "text": [
            "142\n"
          ],
          "name": "stdout"
        }
      ]
    },
    {
      "cell_type": "markdown",
      "metadata": {
        "id": "AqjjpaimVvMf"
      },
      "source": [
        "多向判斷式（if⋯elif⋯else）:收銀台程式開發\n",
        "百貨公司週年慶活動血拼大打折，\n",
        "吸引很多顧客上門，\n",
        "公司決定再加碼回饋客戶，\n",
        "\n",
        "只要客戶消費\n",
        "金額在 100000 元以上就打八折，\n",
        "金額在 50000 元以上就打八五折，\n",
        "金額在 30000 元以上就打九折，\n",
        "金額在 10000 元以上就打九五折，\n",
        "金額在 10000 元以下就不打折\n",
        "\n",
        "請幫該公司設計這個收銀台的程式，\n",
        "輸入顧客購買金額後，計算顧客應付的金錢。"
      ]
    },
    {
      "cell_type": "code",
      "metadata": {
        "id": "884x24PLVwbl",
        "outputId": "1cb8034e-3db6-4ffa-9bec-f705b8c2710c",
        "colab": {
          "base_uri": "https://localhost:8080/",
          "height": 51
        }
      },
      "source": [
        "money = int(input(\"請輸入購物金額：\"))\n",
        "\n",
        "if(money >= 10000):\n",
        "    if(money >= 100000):\n",
        "        print(money * 0.8, end=\" 元\\n\")  #八折\n",
        "    elif(money >= 50000):\n",
        "        print(money * 0.85, end=\" 元\\n\")  #八五折\n",
        "    elif(money >= 30000):\n",
        "        print(money * 0.9, end=\" 元\\n\")  #九折\n",
        "    else:\n",
        "        print(money * 0.95, end=\" 元\\n\")  #九五折\n",
        "else:\n",
        "    print(money, end=\" 元\\n\")  #未打折"
      ],
      "execution_count": 18,
      "outputs": [
        {
          "output_type": "stream",
          "text": [
            "請輸入購物金額：500000\n",
            "400000.0 元\n"
          ],
          "name": "stdout"
        }
      ]
    }
  ]
}