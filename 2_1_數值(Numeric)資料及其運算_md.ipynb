{
  "nbformat": 4,
  "nbformat_minor": 0,
  "metadata": {
    "colab": {
      "name": "2_1_數值(Numeric)資料及其運算.md",
      "provenance": [],
      "authorship_tag": "ABX9TyMw9RgcHVviWCkLwr+Jitie",
      "include_colab_link": true
    },
    "kernelspec": {
      "name": "python3",
      "display_name": "Python 3"
    }
  },
  "cells": [
    {
      "cell_type": "markdown",
      "metadata": {
        "id": "view-in-github",
        "colab_type": "text"
      },
      "source": [
        "<a href=\"https://colab.research.google.com/github/TaiHo1944/u32784194/blob/master/2_1_%E6%95%B8%E5%80%BC(Numeric)%E8%B3%87%E6%96%99%E5%8F%8A%E5%85%B6%E9%81%8B%E7%AE%97_md.ipynb\" target=\"_parent\"><img src=\"https://colab.research.google.com/assets/colab-badge.svg\" alt=\"Open In Colab\"/></a>"
      ]
    },
    {
      "cell_type": "markdown",
      "metadata": {
        "id": "8E-xtTcXQnjp"
      },
      "source": [
        "學習目標\n",
        "數值(Numeric)資料及其運算\n",
        "數值(Numeric)資料各種內建函數()\n",
        "數值(Numeric)資料及其運算\n",
        "Python 支持三種不同的數值型別(Data Type)：\n",
        "[1]Int 整數，是可以是正或負整數，不帶小數點。\n",
        "  Python3  int是沒有限制大小的，可以當作 Long 類型使用，所以 Python3 沒有 Python2 的 Long 類型。\n",
        "[2]浮點數(float) :由整數部分與小數部分組成，浮點型也可以使用科學計數法表示（2.5e2 = 2.5 x 10 0 = 250）\n",
        "[3]複數( (complex)) - 複數由實數部分和虛數部分構成，可以用a + bj,或者complex(a,b)表示， 複數的實部a和虛部b都是浮點型。\n",
        "\n",
        "https://www.w3schools.com/python/python_exercises.asp\n",
        "數值型別(Numerics Data Type)的各種運算:\n",
        "算術運算子\n",
        "比較（關係）運算子\n",
        "賦值運算子\n",
        "邏輯運算符\n",
        "位元運算子\n",
        "成員運算子\n",
        "身份運算子\n",
        "底下以範例快速示範,同學請勤作練習,完成你自己的python學習之路\n",
        "https://www.w3schools.com/python/python_operators.asp\n",
        "算術運算"
      ]
    },
    {
      "cell_type": "code",
      "metadata": {
        "id": "OCamt4-eQqnL",
        "outputId": "51171958-2e1d-449a-e81c-edd55b45e9dc",
        "colab": {
          "base_uri": "https://localhost:8080/",
          "height": 34
        }
      },
      "source": [
        "-3%2"
      ],
      "execution_count": 1,
      "outputs": [
        {
          "output_type": "execute_result",
          "data": {
            "text/plain": [
              "1"
            ]
          },
          "metadata": {
            "tags": []
          },
          "execution_count": 1
        }
      ]
    },
    {
      "cell_type": "code",
      "metadata": {
        "id": "IYNi8-mRQtEZ",
        "outputId": "c537abc4-608b-4757-d469-d1e18d3768b9",
        "colab": {
          "base_uri": "https://localhost:8080/",
          "height": 34
        }
      },
      "source": [
        "a = 7//2\n",
        "b = 7.0//2\n",
        "c = 7//2.0\n",
        "\n",
        "a,b,c"
      ],
      "execution_count": 2,
      "outputs": [
        {
          "output_type": "execute_result",
          "data": {
            "text/plain": [
              "(3, 3.0, 3.0)"
            ]
          },
          "metadata": {
            "tags": []
          },
          "execution_count": 2
        }
      ]
    },
    {
      "cell_type": "code",
      "metadata": {
        "id": "RyBcGeacQuU_",
        "outputId": "6f7fe990-3d11-4731-c182-7f85317d5ebb",
        "colab": {
          "base_uri": "https://localhost:8080/",
          "height": 34
        }
      },
      "source": [
        "5 ** 2"
      ],
      "execution_count": 3,
      "outputs": [
        {
          "output_type": "execute_result",
          "data": {
            "text/plain": [
              "25"
            ]
          },
          "metadata": {
            "tags": []
          },
          "execution_count": 3
        }
      ]
    },
    {
      "cell_type": "markdown",
      "metadata": {
        "id": "igmWugmfQv8b"
      },
      "source": [
        "Logical Operators::"
      ]
    },
    {
      "cell_type": "code",
      "metadata": {
        "id": "m_EzVmCmQxPS",
        "outputId": "73938da5-ae91-42f2-fa8c-2e82d94c5b79",
        "colab": {
          "base_uri": "https://localhost:8080/",
          "height": 34
        }
      },
      "source": [
        "x = 5\n",
        "\n",
        "print(x > 3 and x < 10)"
      ],
      "execution_count": 4,
      "outputs": [
        {
          "output_type": "stream",
          "text": [
            "True\n"
          ],
          "name": "stdout"
        }
      ]
    },
    {
      "cell_type": "code",
      "metadata": {
        "id": "PtaGHWycQyrs",
        "outputId": "097acb08-e9dd-4de4-9de1-32e562ced0da",
        "colab": {
          "base_uri": "https://localhost:8080/",
          "height": 34
        }
      },
      "source": [
        "x = 5\n",
        "\n",
        "print(x > 3 or x < 4)"
      ],
      "execution_count": 5,
      "outputs": [
        {
          "output_type": "stream",
          "text": [
            "True\n"
          ],
          "name": "stdout"
        }
      ]
    },
    {
      "cell_type": "code",
      "metadata": {
        "id": "Wc6DgwBeQ00N",
        "outputId": "801828db-aa8d-49b1-9664-ca37289fac03",
        "colab": {
          "base_uri": "https://localhost:8080/",
          "height": 34
        }
      },
      "source": [
        "x = 5\n",
        "\n",
        "print(not(x > 3 and x < 10))"
      ],
      "execution_count": 6,
      "outputs": [
        {
          "output_type": "stream",
          "text": [
            "False\n"
          ],
          "name": "stdout"
        }
      ]
    },
    {
      "cell_type": "markdown",
      "metadata": {
        "id": "HKn0GDjMQ2t4"
      },
      "source": [
        "Bitwise Operators"
      ]
    },
    {
      "cell_type": "code",
      "metadata": {
        "id": "BQddmEeKQ4K7",
        "outputId": "e9e33fbe-3f38-4e0b-8b44-6d8b1dae39d8",
        "colab": {
          "base_uri": "https://localhost:8080/",
          "height": 153
        }
      },
      "source": [
        "#!/usr/bin/python3\n",
        " \n",
        "a = 60            # 60 = 0011 1100 \n",
        "b = 13            # 13 = 0000 1101 \n",
        "c = 0\n",
        "\n",
        "print (\"0 - a =  60 = 0011 1100(二進位) \")\n",
        "print (\"0 - b =  13 = 0000 1101(二進位) \")\n",
        "c = a & b;        # 12 = 0000 1100\n",
        "print (\"1 - c = a & b的值為：\", c)\n",
        " \n",
        "c = a | b;        # 61 = 0011 1101 \n",
        "print (\"2 - c = a | b的值為：\", c)\n",
        " \n",
        "c = a ^ b;        # 49 = 0011 0001\n",
        "print (\"3 - c= a ^ b 的值為：\", c)\n",
        " \n",
        "c = ~a;           # -61 = 1100 0011\n",
        "print (\"4 - c = ~a的值為：\", c)\n",
        " \n",
        "c = a << 2;       # 240 = 1111 0000\n",
        "print (\"5 - c = a << 2的值為：\", c)\n",
        " \n",
        "c = a >> 2;       # 15 = 0000 1111\n",
        "print (\"6 - c = a >> 2的值為：\", c)"
      ],
      "execution_count": 7,
      "outputs": [
        {
          "output_type": "stream",
          "text": [
            "0 - a =  60 = 0011 1100(二進位) \n",
            "0 - b =  13 = 0000 1101(二進位) \n",
            "1 - c = a & b的值為： 12\n",
            "2 - c = a | b的值為： 61\n",
            "3 - c= a ^ b 的值為： 49\n",
            "4 - c = ~a的值為： -61\n",
            "5 - c = a << 2的值為： 240\n",
            "6 - c = a >> 2的值為： 15\n"
          ],
          "name": "stdout"
        }
      ]
    },
    {
      "cell_type": "markdown",
      "metadata": {
        "id": "uef7bWmDQ6Xq"
      },
      "source": [
        "各種數學函數\n",
        "https://www.w3schools.com/python/python_ref_functions.asp\n",
        "作業:完成十種函數的自我測試報告"
      ]
    },
    {
      "cell_type": "code",
      "metadata": {
        "id": "r7VgNZFdQ77k",
        "outputId": "9f181951-8bfc-49d8-c589-c47935d8e27b",
        "colab": {
          "base_uri": "https://localhost:8080/",
          "height": 34
        }
      },
      "source": [
        "x = abs(-36)\n",
        "x"
      ],
      "execution_count": 8,
      "outputs": [
        {
          "output_type": "execute_result",
          "data": {
            "text/plain": [
              "36"
            ]
          },
          "metadata": {
            "tags": []
          },
          "execution_count": 8
        }
      ]
    },
    {
      "cell_type": "markdown",
      "metadata": {
        "id": "T3AqH4ISQ9fP"
      },
      "source": [
        "進位轉換"
      ]
    },
    {
      "cell_type": "code",
      "metadata": {
        "id": "K2n817z7Q-kR",
        "outputId": "b9eaac80-6d21-4f0d-e104-c5b6fde7e821",
        "colab": {
          "base_uri": "https://localhost:8080/",
          "height": 35
        }
      },
      "source": [
        "x = bin(36)\n",
        "x\n",
        "\n",
        "x = oct(36)\n",
        "x\n",
        "\n",
        "x = hex(255)\n",
        "x"
      ],
      "execution_count": 9,
      "outputs": [
        {
          "output_type": "execute_result",
          "data": {
            "application/vnd.google.colaboratory.intrinsic+json": {
              "type": "string"
            },
            "text/plain": [
              "'0xff'"
            ]
          },
          "metadata": {
            "tags": []
          },
          "execution_count": 9
        }
      ]
    },
    {
      "cell_type": "markdown",
      "metadata": {
        "id": "XY2HjrMERAK7"
      },
      "source": [
        "int()函數的測試\n",
        "https://www.w3schools.com/python/ref_func_int.asp"
      ]
    },
    {
      "cell_type": "code",
      "metadata": {
        "id": "8Qg6p2tBRC8J",
        "outputId": "70d5984d-6ce9-4104-a295-de77edbe59ab",
        "colab": {
          "base_uri": "https://localhost:8080/",
          "height": 34
        }
      },
      "source": [
        "x=int('10',2)\n",
        "x\n",
        "\n",
        "x=int('10',16)\n",
        "x\n",
        "\n",
        "x=int('10',8)\n",
        "x"
      ],
      "execution_count": 10,
      "outputs": [
        {
          "output_type": "execute_result",
          "data": {
            "text/plain": [
              "8"
            ]
          },
          "metadata": {
            "tags": []
          },
          "execution_count": 10
        }
      ]
    },
    {
      "cell_type": "markdown",
      "metadata": {
        "id": "Ksx4Jtu7RGMl"
      },
      "source": [
        "round()函數的測試"
      ]
    },
    {
      "cell_type": "code",
      "metadata": {
        "id": "tMgPYJzLRHVW",
        "outputId": "5ed82724-289f-4292-aff8-d05b005600b0",
        "colab": {
          "base_uri": "https://localhost:8080/",
          "height": 51
        }
      },
      "source": [
        "#Round a number to only two decimals:\n",
        "\n",
        "x = round(5.76543, 2)\n",
        "print(x)\n",
        "\n",
        "# Round to the nearest integer:\n",
        "\n",
        "x = round(5.76543)\n",
        "print(x)\n"
      ],
      "execution_count": 11,
      "outputs": [
        {
          "output_type": "stream",
          "text": [
            "5.77\n",
            "6\n"
          ],
          "name": "stdout"
        }
      ]
    },
    {
      "cell_type": "markdown",
      "metadata": {
        "id": "v81YhtPCRJ6F"
      },
      "source": [
        "Python 類型轉換\n",
        "有時候，我們需要對資料內置的類型進行轉換，\n",
        "資料類型的轉換只需要將資料類型作為函數名即可。\n",
        "\n",
        "\n",
        "int(x) 將x轉換為一個整數。\n",
        "float(x) 將x轉換到一個浮點數。\n",
        "complex(x) 將x轉換到一個複數，實數部分為 x，虛數部分為 0。\n",
        "complex(x, y) 將 x 和 y 轉換到一個複數，實數部分為 x，虛數部分為 y。x 和 y 是數字運算式。"
      ]
    },
    {
      "cell_type": "code",
      "metadata": {
        "id": "YXdnW9HSRK5F",
        "outputId": "f472e100-d39c-4680-f110-334eda62a625",
        "colab": {
          "base_uri": "https://localhost:8080/",
          "height": 34
        }
      },
      "source": [
        "a = 1.0004\n",
        "int(a)\n",
        "\n",
        "b = 0.9999\n",
        "int(a)"
      ],
      "execution_count": 12,
      "outputs": [
        {
          "output_type": "execute_result",
          "data": {
            "text/plain": [
              "1"
            ]
          },
          "metadata": {
            "tags": []
          },
          "execution_count": 12
        }
      ]
    }
  ]
}