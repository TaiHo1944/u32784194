{
  "nbformat": 4,
  "nbformat_minor": 0,
  "metadata": {
    "colab": {
      "name": "2_4_字典(Dict)資料型態及其運算.md",
      "provenance": [],
      "authorship_tag": "ABX9TyMsYNie64MYLG47iWeNV5d0",
      "include_colab_link": true
    },
    "kernelspec": {
      "name": "python3",
      "display_name": "Python 3"
    }
  },
  "cells": [
    {
      "cell_type": "markdown",
      "metadata": {
        "id": "view-in-github",
        "colab_type": "text"
      },
      "source": [
        "<a href=\"https://colab.research.google.com/github/TaiHo1944/u32784194/blob/master/2_4_%E5%AD%97%E5%85%B8(Dict)%E8%B3%87%E6%96%99%E5%9E%8B%E6%85%8B%E5%8F%8A%E5%85%B6%E9%81%8B%E7%AE%97_md.ipynb\" target=\"_parent\"><img src=\"https://colab.research.google.com/assets/colab-badge.svg\" alt=\"Open In Colab\"/></a>"
      ]
    },
    {
      "cell_type": "markdown",
      "metadata": {
        "id": "nBR42ulETb4G"
      },
      "source": [
        "字典(Dictionary)\n",
        "字典是一種可變容器模型，且可存儲任意類型物件。\n",
        "\n",
        "字典的每個鍵值(key=>value)對用冒號(:)分割\n",
        "每對pair之間用逗號(,)分割\n",
        "整個字典包括在花括弧({})中\n",
        "存取時:dict['Key']會得到value!"
      ]
    },
    {
      "cell_type": "code",
      "metadata": {
        "id": "sBpP5bmpTgfi",
        "outputId": "d3e2a7de-1012-4767-feef-8b5f513fc86d",
        "colab": {
          "base_uri": "https://localhost:8080/",
          "height": 51
        }
      },
      "source": [
        "#!/usr/bin/python\n",
        " \n",
        "dict = {'Name': 'Zara', 'Age': 7, 'Class': 'First'}\n",
        " \n",
        "print(\"dict['Name']: \", dict['Name'])\n",
        "print(\"dict['Age']: \", dict['Age'])"
      ],
      "execution_count": 1,
      "outputs": [
        {
          "output_type": "stream",
          "text": [
            "dict['Name']:  Zara\n",
            "dict['Age']:  7\n"
          ],
          "name": "stdout"
        }
      ]
    },
    {
      "cell_type": "markdown",
      "metadata": {
        "id": "52upomWWTjHT"
      },
      "source": [
        "Queston 1:寫出上述dict的key有那些?\n",
        "Queston 2:寫出上述dict的value有那些?\n",
        "Queston 3:有幾組key-value pairs?\n",
        "建立dict的方法"
      ]
    },
    {
      "cell_type": "code",
      "metadata": {
        "id": "826uUAnaTpvB",
        "outputId": "2b2900b2-3b72-412d-ad13-19f92fad4293",
        "colab": {
          "base_uri": "https://localhost:8080/",
          "height": 131
        }
      },
      "source": [
        "dict_1 = dict({\"a\":1234,\"b\":2345,\"c\":3456})\n",
        "dict_1\n",
        "\n",
        "dict_2 = dict(a=1234,b=2345,c=3456)\n",
        "dict_2\n",
        "\n",
        "dict_3 = {\"a\":1234,\"b\":2345,\"c\":3456}\n",
        "dict_3\n",
        "\n",
        "# 錯誤的寫法\n",
        "dict_wrong = dict{\"a\":1234,\"b\":2345,\"c\":3456}\n",
        "dict_wrong"
      ],
      "execution_count": 3,
      "outputs": [
        {
          "output_type": "error",
          "ename": "SyntaxError",
          "evalue": "ignored",
          "traceback": [
            "\u001b[0;36m  File \u001b[0;32m\"<ipython-input-3-93b39dbd91e2>\"\u001b[0;36m, line \u001b[0;32m11\u001b[0m\n\u001b[0;31m    dict_wrong = dict{\"a\":1234,\"b\":2345,\"c\":3456}\u001b[0m\n\u001b[0m                     ^\u001b[0m\n\u001b[0;31mSyntaxError\u001b[0m\u001b[0;31m:\u001b[0m invalid syntax\n"
          ]
        }
      ]
    },
    {
      "cell_type": "markdown",
      "metadata": {
        "id": "Ef9hYyClTsK-"
      },
      "source": [
        "存取字典的資料 How to access elements from a dictionary?\n",
        "字典的key必須是唯一的\n",
        "要取出value  使用中括號"
      ]
    },
    {
      "cell_type": "code",
      "metadata": {
        "id": "CstfIchOTtV9"
      },
      "source": [
        "\n",
        "#dict_1[\"a\"]\n",
        "#dict_2[\"b\"]\n",
        "#dict_3[\"c\"]"
      ],
      "execution_count": 9,
      "outputs": []
    },
    {
      "cell_type": "markdown",
      "metadata": {
        "id": "VSAK72j3TweP"
      },
      "source": [
        "dict的運算\n",
        "新增、修改、刪除與清除dict資料"
      ]
    },
    {
      "cell_type": "code",
      "metadata": {
        "id": "JiGkOcZkTy5R",
        "outputId": "0aa6ac3e-5815-4abe-a37d-029aabfdc780",
        "colab": {
          "base_uri": "https://localhost:8080/",
          "height": 233
        }
      },
      "source": [
        "\n",
        "#新增\n",
        "dict_1[\"d\"]=4567\n",
        "dict_1\n",
        "\n",
        "# 新增字典的key和value值::使用.setdefault()\n",
        "data={\"A\":\"123\",\"B\":\"456\"}\n",
        "data.setdefault('C','789')\n",
        "print(data)\n",
        "\n",
        "#新增字典的key和value值使用.updata()\n",
        "data={\"A\":\"123\",\"B\":\"456\"}\n",
        "dic2={\"C\":\"987\"}\n",
        "data.update(dic2)\n",
        "print(data)\n",
        "\n",
        "#修改字典的key和value值\n",
        "data={\"A\":\"123\",\"B\":\"456\"}\n",
        "data['A']=\"666\"\n",
        "print(data)\n",
        "\n",
        "#刪除\n",
        "del dict_1[\"d\"]\n",
        "dict_1\n",
        "\n",
        "# 清除字典內的鍵keys值values\n",
        "data.clear()\n",
        "print(data)\n",
        "\n",
        "# 複製字典的內容到另一字典\n",
        "data={\"A\":\"123\",\"B\":\"456\"}\n",
        "data2=data.copy()\n",
        "data2\n",
        "#print(data2)"
      ],
      "execution_count": 10,
      "outputs": [
        {
          "output_type": "error",
          "ename": "NameError",
          "evalue": "ignored",
          "traceback": [
            "\u001b[0;31m---------------------------------------------------------------------------\u001b[0m",
            "\u001b[0;31mNameError\u001b[0m                                 Traceback (most recent call last)",
            "\u001b[0;32m<ipython-input-10-55483231bf60>\u001b[0m in \u001b[0;36m<module>\u001b[0;34m()\u001b[0m\n\u001b[1;32m      1\u001b[0m \u001b[0;34m\u001b[0m\u001b[0m\n\u001b[1;32m      2\u001b[0m \u001b[0;31m#新增\u001b[0m\u001b[0;34m\u001b[0m\u001b[0;34m\u001b[0m\u001b[0;34m\u001b[0m\u001b[0m\n\u001b[0;32m----> 3\u001b[0;31m \u001b[0mdict_1\u001b[0m\u001b[0;34m[\u001b[0m\u001b[0;34m\"d\"\u001b[0m\u001b[0;34m]\u001b[0m\u001b[0;34m=\u001b[0m\u001b[0;36m4567\u001b[0m\u001b[0;34m\u001b[0m\u001b[0;34m\u001b[0m\u001b[0m\n\u001b[0m\u001b[1;32m      4\u001b[0m \u001b[0;34m\u001b[0m\u001b[0m\n\u001b[1;32m      5\u001b[0m \u001b[0;34m\u001b[0m\u001b[0m\n",
            "\u001b[0;31mNameError\u001b[0m: name 'dict_1' is not defined"
          ]
        }
      ]
    },
    {
      "cell_type": "markdown",
      "metadata": {
        "id": "_ARm0-JDT08K"
      },
      "source": [
        "使用for loop去存取dict的資料\n",
        "https://stackoverflow.com/questions/3294889/iterating-over-dictionaries-using-for-loops"
      ]
    },
    {
      "cell_type": "code",
      "metadata": {
        "id": "yPBW4LLjT2PX",
        "outputId": "24c81cd9-f771-4a2c-849d-1365f1ac2450",
        "colab": {
          "base_uri": "https://localhost:8080/",
          "height": 221
        }
      },
      "source": [
        "\n",
        "d = {'a': 91, 'b': 72, 'c': 83} \n",
        "\n",
        "for key in d:\n",
        "  print(key)\n",
        "\n",
        "for k in d.keys():\n",
        "    print(k)\n",
        "    \n",
        "for v in d.values():\n",
        "    print(v)\n",
        "    \n",
        "for k, v in d.items():\n",
        "  print(k, v)"
      ],
      "execution_count": 6,
      "outputs": [
        {
          "output_type": "stream",
          "text": [
            "a\n",
            "b\n",
            "c\n",
            "a\n",
            "b\n",
            "c\n",
            "91\n",
            "72\n",
            "83\n",
            "a 91\n",
            "b 72\n",
            "c 83\n"
          ],
          "name": "stdout"
        }
      ]
    },
    {
      "cell_type": "markdown",
      "metadata": {
        "id": "Y87UPgkbT4Ca"
      },
      "source": [
        "將dict的value(key)寫成list"
      ]
    },
    {
      "cell_type": "code",
      "metadata": {
        "id": "oHqBp6m5T5Xh",
        "outputId": "88271ea1-cb82-4033-81cd-50f3775a921a",
        "colab": {
          "base_uri": "https://localhost:8080/",
          "height": 34
        }
      },
      "source": [
        "romanD = { \"I\":1,\"II\":2,\"III\":3,\"IV\":4,\"V\":5,\"VI\":6,\"VII\":7,\"VIII\":8,\"IX\":9 } \n",
        "romankeyList = [] \n",
        "romanvalueList = [] \n",
        "\n",
        "for key, value in romanD.items(): \n",
        "    romankeyList.append(key) \n",
        "    romanvalueList.append(value) \n",
        "\n",
        "#romankeyList\n",
        "romanvalueList"
      ],
      "execution_count": 7,
      "outputs": [
        {
          "output_type": "execute_result",
          "data": {
            "text/plain": [
              "[1, 2, 3, 4, 5, 6, 7, 8, 9]"
            ]
          },
          "metadata": {
            "tags": []
          },
          "execution_count": 7
        }
      ]
    },
    {
      "cell_type": "markdown",
      "metadata": {
        "id": "5CEBgTb1UPlH"
      },
      "source": [
        "將兩個list 合併成為一個 dictionary"
      ]
    },
    {
      "cell_type": "code",
      "metadata": {
        "id": "45snTAc8UQy7",
        "outputId": "e489b14d-2f15-4269-c7ff-599cbfdd7053",
        "colab": {
          "base_uri": "https://localhost:8080/",
          "height": 233
        }
      },
      "source": [
        "romanD1 = dict(zip(romankeyList, romanvalueList))\n",
        "romanD1\n",
        "\n",
        "romanD1 = dict(zip(romanvalueList, romankeyList))\n",
        "romanD1"
      ],
      "execution_count": 11,
      "outputs": [
        {
          "output_type": "error",
          "ename": "TypeError",
          "evalue": "ignored",
          "traceback": [
            "\u001b[0;31m---------------------------------------------------------------------------\u001b[0m",
            "\u001b[0;31mTypeError\u001b[0m                                 Traceback (most recent call last)",
            "\u001b[0;32m<ipython-input-11-8fae7bb2cb7d>\u001b[0m in \u001b[0;36m<module>\u001b[0;34m()\u001b[0m\n\u001b[0;32m----> 1\u001b[0;31m \u001b[0mromanD1\u001b[0m \u001b[0;34m=\u001b[0m \u001b[0mdict\u001b[0m\u001b[0;34m(\u001b[0m\u001b[0mzip\u001b[0m\u001b[0;34m(\u001b[0m\u001b[0mromankeyList\u001b[0m\u001b[0;34m,\u001b[0m \u001b[0mromanvalueList\u001b[0m\u001b[0;34m)\u001b[0m\u001b[0;34m)\u001b[0m\u001b[0;34m\u001b[0m\u001b[0;34m\u001b[0m\u001b[0m\n\u001b[0m\u001b[1;32m      2\u001b[0m \u001b[0mromanD1\u001b[0m\u001b[0;34m\u001b[0m\u001b[0;34m\u001b[0m\u001b[0m\n\u001b[1;32m      3\u001b[0m \u001b[0;34m\u001b[0m\u001b[0m\n\u001b[1;32m      4\u001b[0m \u001b[0mromanD1\u001b[0m \u001b[0;34m=\u001b[0m \u001b[0mdict\u001b[0m\u001b[0;34m(\u001b[0m\u001b[0mzip\u001b[0m\u001b[0;34m(\u001b[0m\u001b[0mromanvalueList\u001b[0m\u001b[0;34m,\u001b[0m \u001b[0mromankeyList\u001b[0m\u001b[0;34m)\u001b[0m\u001b[0;34m)\u001b[0m\u001b[0;34m\u001b[0m\u001b[0;34m\u001b[0m\u001b[0m\n\u001b[1;32m      5\u001b[0m \u001b[0mromanD1\u001b[0m\u001b[0;34m\u001b[0m\u001b[0;34m\u001b[0m\u001b[0m\n",
            "\u001b[0;31mTypeError\u001b[0m: 'dict' object is not callable"
          ]
        }
      ]
    },
    {
      "cell_type": "markdown",
      "metadata": {
        "id": "x8V8ergeUS-6"
      },
      "source": [
        "Dictionary Comprehension\n",
        "產生一個 key為1~100的字典(dict)，value為布林值，\n",
        "偶數時為True,奇數時為False\n"
      ]
    },
    {
      "cell_type": "code",
      "metadata": {
        "id": "D9K7V9kFUXJV",
        "outputId": "9380dac6-e7aa-4545-bf03-e453ed35d47e",
        "colab": {
          "base_uri": "https://localhost:8080/",
          "height": 54
        }
      },
      "source": [
        "dict_even = {x:x%2==0 for x in range(1,101)}\n",
        "print(dict_even)"
      ],
      "execution_count": 12,
      "outputs": [
        {
          "output_type": "stream",
          "text": [
            "{1: False, 2: True, 3: False, 4: True, 5: False, 6: True, 7: False, 8: True, 9: False, 10: True, 11: False, 12: True, 13: False, 14: True, 15: False, 16: True, 17: False, 18: True, 19: False, 20: True, 21: False, 22: True, 23: False, 24: True, 25: False, 26: True, 27: False, 28: True, 29: False, 30: True, 31: False, 32: True, 33: False, 34: True, 35: False, 36: True, 37: False, 38: True, 39: False, 40: True, 41: False, 42: True, 43: False, 44: True, 45: False, 46: True, 47: False, 48: True, 49: False, 50: True, 51: False, 52: True, 53: False, 54: True, 55: False, 56: True, 57: False, 58: True, 59: False, 60: True, 61: False, 62: True, 63: False, 64: True, 65: False, 66: True, 67: False, 68: True, 69: False, 70: True, 71: False, 72: True, 73: False, 74: True, 75: False, 76: True, 77: False, 78: True, 79: False, 80: True, 81: False, 82: True, 83: False, 84: True, 85: False, 86: True, 87: False, 88: True, 89: False, 90: True, 91: False, 92: True, 93: False, 94: True, 95: False, 96: True, 97: False, 98: True, 99: False, 100: True}\n"
          ],
          "name": "stdout"
        }
      ]
    },
    {
      "cell_type": "markdown",
      "metadata": {
        "id": "-sbfUpgmUZuO"
      },
      "source": [
        "產生a到z的ascii字典"
      ]
    },
    {
      "cell_type": "code",
      "metadata": {
        "id": "wS9aGcZHUa81",
        "outputId": "b97f3c68-f467-4749-f8e5-7b48d6161ced",
        "colab": {
          "base_uri": "https://localhost:8080/",
          "height": 459
        }
      },
      "source": [
        "ascii_a2z = {num: chr(num) for num in range(97,123)}\n",
        "ascii_a2z\n",
        "\n",
        "alphas= []\n",
        "for num in range(97,123):\n",
        "    alpha = chr(num)\n",
        "    alphas.append(alpha)\n",
        "  \n",
        "ascii_a2z = {alpha: ord(alpha) for alpha in alphas}\n",
        "ascii_a2z"
      ],
      "execution_count": 13,
      "outputs": [
        {
          "output_type": "execute_result",
          "data": {
            "text/plain": [
              "{'a': 97,\n",
              " 'b': 98,\n",
              " 'c': 99,\n",
              " 'd': 100,\n",
              " 'e': 101,\n",
              " 'f': 102,\n",
              " 'g': 103,\n",
              " 'h': 104,\n",
              " 'i': 105,\n",
              " 'j': 106,\n",
              " 'k': 107,\n",
              " 'l': 108,\n",
              " 'm': 109,\n",
              " 'n': 110,\n",
              " 'o': 111,\n",
              " 'p': 112,\n",
              " 'q': 113,\n",
              " 'r': 114,\n",
              " 's': 115,\n",
              " 't': 116,\n",
              " 'u': 117,\n",
              " 'v': 118,\n",
              " 'w': 119,\n",
              " 'x': 120,\n",
              " 'y': 121,\n",
              " 'z': 122}"
            ]
          },
          "metadata": {
            "tags": []
          },
          "execution_count": 13
        }
      ]
    },
    {
      "cell_type": "markdown",
      "metadata": {
        "id": "RnEGOB07Ucyu"
      },
      "source": [
        "產生ascii字典"
      ]
    },
    {
      "cell_type": "code",
      "metadata": {
        "id": "kwupuE-ZUdsn",
        "outputId": "79a2a8cd-bafd-4c01-d4f1-d525d478d101",
        "colab": {
          "base_uri": "https://localhost:8080/",
          "height": 35
        }
      },
      "source": [
        "ascii_dict = {num: chr(num) for num in range(256)}\n",
        "ascii_dict\n",
        "\n",
        "ascii_dict[66]"
      ],
      "execution_count": 14,
      "outputs": [
        {
          "output_type": "execute_result",
          "data": {
            "application/vnd.google.colaboratory.intrinsic+json": {
              "type": "string"
            },
            "text/plain": [
              "'B'"
            ]
          },
          "metadata": {
            "tags": []
          },
          "execution_count": 14
        }
      ]
    },
    {
      "cell_type": "markdown",
      "metadata": {
        "id": "eObB2Tw9UgK1"
      },
      "source": [
        "dict內建的函數\n",
        "https://www.programiz.com/python-programming/dictionary\n",
        "\n",
        "DNA編碼\n",
        "qiwi_infosec_ctf_2016/crypto_100_3\n",
        "\n",
        "https://github.com/USCGA/writeups/tree/master/online_ctfs/qiwi_infosec_ctf_2016/crypto_100_3_COMPLETE"
      ]
    },
    {
      "cell_type": "code",
      "metadata": {
        "id": "bowFUGlkUhtz",
        "outputId": "703b4387-68f9-4aab-8625-5cb29cf6a650",
        "colab": {
          "base_uri": "https://localhost:8080/",
          "height": 34
        }
      },
      "source": [
        "mapping = {\n",
        "        \n",
        "        'CGA': 'A',\n",
        "        'CCA': 'B',\n",
        "        'GTT': 'C',\n",
        "        'TTG': 'D',\n",
        "        'GGC': 'E',\n",
        "        'GGT': 'F',\n",
        "        'TTT': 'G',\n",
        "        'CGC': 'H',\n",
        "        'ATG': 'I',\n",
        "        'AGT': 'J',\n",
        "        'AAG': 'K',\n",
        "        'TGC': 'L',\n",
        "        'TCC': 'M',\n",
        "        'TCT': 'N',\n",
        "        'GGA': 'O',\n",
        "        'GTG': 'P',\n",
        "        'AAC': 'Q',\n",
        "        'TCA': 'R',\n",
        "        'ACG': 'S',\n",
        "        'TTC': 'T',\n",
        "        'CTG': 'U',\n",
        "        'CCT': 'V',\n",
        "        'CCG': 'W',\n",
        "        'CTA': 'X',\n",
        "        'AAA': 'Y',\n",
        "        'CTT': 'Z',\n",
        "        'ATA': ' ',\n",
        "        'TCG': ',',\n",
        "        'GAT': '.',\n",
        "        'GCT': ':',\n",
        "        'ACT': '0',\n",
        "        'ACC': '1',\n",
        "        'TAG': '2',\n",
        "        'GCA': '3',\n",
        "        'GAG': '4',\n",
        "        'AGA': '5',\n",
        "        'TTA': '6',\n",
        "        'ACA': '7',\n",
        "        'AGG': '8',\n",
        "        'GCG': '9'\n",
        "}\n",
        "\n",
        "def decode_dna( string ):\n",
        "\n",
        "    pieces = []\n",
        "    for i in range( 0, len(string), 3 ):\n",
        "        piece =  string[i:i+3]\n",
        "        # pieces.append()\n",
        "        pieces.append( mapping[piece] )\n",
        "\n",
        "    return \"\".join(pieces)\n",
        "\n",
        "\n",
        "string = 'GGTTCAATGGGCTTGTCAATGGTTCGCATATCCATGGGCACGGTTCGCGGCTCA'   \n",
        "print(decode_dna(string))"
      ],
      "execution_count": 15,
      "outputs": [
        {
          "output_type": "stream",
          "text": [
            "FRIEDRICH MIESCHER\n"
          ],
          "name": "stdout"
        }
      ]
    }
  ]
}