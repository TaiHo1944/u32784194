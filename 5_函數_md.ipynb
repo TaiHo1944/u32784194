{
  "nbformat": 4,
  "nbformat_minor": 0,
  "metadata": {
    "colab": {
      "name": "5_函數.md.ipynb",
      "provenance": [],
      "authorship_tag": "ABX9TyMJCflEXUTneAtaTWhHabE1",
      "include_colab_link": true
    },
    "kernelspec": {
      "name": "python3",
      "display_name": "Python 3"
    }
  },
  "cells": [
    {
      "cell_type": "markdown",
      "metadata": {
        "id": "view-in-github",
        "colab_type": "text"
      },
      "source": [
        "<a href=\"https://colab.research.google.com/github/TaiHo1944/u32784194/blob/master/5_%E5%87%BD%E6%95%B8_md.ipynb\" target=\"_parent\"><img src=\"https://colab.research.google.com/assets/colab-badge.svg\" alt=\"Open In Colab\"/></a>"
      ]
    },
    {
      "cell_type": "markdown",
      "metadata": {
        "id": "UDzHCymgKaVx"
      },
      "source": [
        "函數開發初體驗"
      ]
    },
    {
      "cell_type": "code",
      "metadata": {
        "id": "WnHp06w_Khd3",
        "outputId": "e2114cad-f1b8-4a1d-e7eb-b39ee75059fd",
        "colab": {
          "base_uri": "https://localhost:8080/",
          "height": 68
        }
      },
      "source": [
        "def sum(i1, i2):\n",
        "    result = 0\n",
        "    for i in range(i1, i2):\n",
        "        result += i\n",
        "    return result\n",
        "\n",
        "def main():\n",
        "    print(\"Sum from 1 to 10 is\", sum(1, 11)) \n",
        "    print(\"Sum from 20 to 37 is\", sum(20, 38))\n",
        "    print(\"Sum from 35 to 49 is\", sum(35, 50))\n",
        "\n",
        "main() # Call the main function"
      ],
      "execution_count": 1,
      "outputs": [
        {
          "output_type": "stream",
          "text": [
            "Sum from 1 to 10 is 55\n",
            "Sum from 20 to 37 is 513\n",
            "Sum from 35 to 49 is 630\n"
          ],
          "name": "stdout"
        }
      ]
    },
    {
      "cell_type": "markdown",
      "metadata": {
        "id": "Yn8gVlaKK2qD"
      },
      "source": [
        "函式的定義:\n",
        "函數代碼塊以 def 關鍵字開頭，後接函數識別字名稱和圓括號()。\n",
        "任何傳入參數和引數必須放在圓括號中間。圓括號之間可以用於定義參數。\n",
        "函數的第一行語句可以選擇性地使用文檔字串—用於存放函數說明。\n",
        "函數內容以冒號起始，並且縮排。\n",
        "return [運算式] 結束函數，選擇性地返回一個值給調用方。不帶運算式的return相當於返回 None。\n",
        "函式包含標頭和主體。\n",
        "標頭(header)起源於def關鍵字，後接函式名稱和參數，最後以冒號結尾。\n",
        "【Python 練習實例47】練習撰寫swap(a,b)函式\n",
        "                    寫一個函式將輸入的兩個變數值互換"
      ]
    },
    {
      "cell_type": "code",
      "metadata": {
        "id": "hBPl1K4vK7iy",
        "outputId": "e65960b0-a3bb-4ce4-9769-cc67e5bbcfc2",
        "colab": {
          "base_uri": "https://localhost:8080/",
          "height": 51
        }
      },
      "source": [
        "#!/usr/bin/python\n",
        "# -*- coding: UTF-8 -*-\n",
        " \n",
        "def swap(a,b):\n",
        "    a,b = b,a\n",
        "    return (a,b)\n",
        " \n",
        "if __name__ == '__main__':\n",
        "    x = 10\n",
        "    y = 20\n",
        "    print('x = %d,y = %d' % (x,y))\n",
        "    x,y = swap(x,y)\n",
        "    print('x = %d,y = %d' % (x,y))"
      ],
      "execution_count": 2,
      "outputs": [
        {
          "output_type": "stream",
          "text": [
            "x = 10,y = 20\n",
            "x = 20,y = 10\n"
          ],
          "name": "stdout"
        }
      ]
    },
    {
      "cell_type": "code",
      "metadata": {
        "id": "x36kNUsGK-52",
        "outputId": "4a27397f-a8cc-41a5-ee2b-55810edd6b02",
        "colab": {
          "base_uri": "https://localhost:8080/",
          "height": 102
        }
      },
      "source": [
        "\"\"\"## Python Docstring\n",
        "\n",
        "\n",
        "https://stackoverflow.com/questions/3898572/what-is-the-standard-python-docstring-format\n",
        "\n",
        "\n",
        "Google Style Python Docstrings\n",
        "\n",
        "https://www.sphinx-doc.org/en/master/usage/extensions/example_google.html#example-google\n",
        "\n",
        "\n",
        "'''\n",
        "This is an example of Google style.\n",
        "\n",
        "Args:\n",
        "    param1: This is the first param.\n",
        "    param2: This is a second param.\n",
        "\n",
        "Returns:\n",
        "    This is a description of what is returned.\n",
        "\n",
        "Raises:\n",
        "    KeyError: Raises an exception.\n",
        "'''\n",
        "\"\"\"\n",
        "\n",
        "def demo():\n",
        "    \"\"\"函數的文件字串\"\"\"\n",
        "    pass\n",
        "    \n",
        "print(demo.__doc__)\n",
        "\n",
        "def swap(a,b):\n",
        "    \"\"\"\n",
        "    swap(a,b)功能是.................\n",
        "    \"\"\" \n",
        "    a,b = b,a\n",
        "    return (a,b)\n",
        "\n",
        "print(swap(3,5))\n",
        "print(swap.__doc__)"
      ],
      "execution_count": 3,
      "outputs": [
        {
          "output_type": "stream",
          "text": [
            "函數的文件字串\n",
            "(5, 3)\n",
            "\n",
            "    swap(a,b)功能是.................\n",
            "    \n"
          ],
          "name": "stdout"
        }
      ]
    },
    {
      "cell_type": "markdown",
      "metadata": {
        "id": "-zFcuAYvLB5T"
      },
      "source": [
        "函式與回傳值\n",
        "Python的函式是否有無回傳值，端視函式是否有無return敘述。\n",
        "\n",
        "若函式沒有回傳值，預設是回傳一None特殊值。 因此，沒有回傳值的函式也稱為None函式。 None值可以指定給一變數，表示此變數沒有參考到任何的物件"
      ]
    },
    {
      "cell_type": "code",
      "metadata": {
        "id": "7s0yw_rfLELP",
        "outputId": "dcdaa0b0-b202-42fa-d15a-ea6b62a87b59",
        "colab": {
          "base_uri": "https://localhost:8080/",
          "height": 52
        }
      },
      "source": [
        "## Python的函數可以回傳多個值(超棒der)\n",
        "\"\"\"\n",
        "\n",
        "#!/usr/bin/python \n",
        "# -*- coding: UTF-8 -*- \n",
        "\n",
        "def sort(number1, number2):\n",
        "    if number1 < number2:\n",
        "        return number1, number2\n",
        "    else:\n",
        "        return number2, number1\n",
        "\n",
        "num1, num2 = sort(31, 25)\n",
        "\n",
        "print(\"num1 is\", num1)\n",
        "print(\"num2 is\", num2)\n",
        "\n",
        "\"\"\"### [作業]:def sort(number1, number2, number3):"
      ],
      "execution_count": 4,
      "outputs": [
        {
          "output_type": "execute_result",
          "data": {
            "application/vnd.google.colaboratory.intrinsic+json": {
              "type": "string"
            },
            "text/plain": [
              "'\\n\\n#!/usr/bin/python \\n# -*- coding: UTF-8 -*- \\n\\ndef sort(number1, number2):\\n    if number1 < number2:\\n        return number1, number2\\n    else:\\n        return number2, number1\\n\\nnum1, num2 = sort(31, 25)\\n\\nprint(\"num1 is\", num1)\\nprint(\"num2 is\", num2)\\n\\n'"
            ]
          },
          "metadata": {
            "tags": []
          },
          "execution_count": 4
        }
      ]
    },
    {
      "cell_type": "markdown",
      "metadata": {
        "id": "qGpkckxyLL9f"
      },
      "source": [
        "函式與參數\n",
        "Default arguments預設參數\n",
        "Positional arguments位置參數\n",
        "Keyword arguments關鍵字參數\n",
        "arguments參數的使用技巧"
      ]
    },
    {
      "cell_type": "code",
      "metadata": {
        "id": "Qat6AsJELNot",
        "outputId": "e6856133-f0e8-4387-d7e8-76c43fea057d",
        "colab": {
          "base_uri": "https://localhost:8080/",
          "height": 102
        }
      },
      "source": [
        "#!/usr/bin/python \n",
        "# -*- coding: UTF-8 -*- \n",
        "\n",
        "def printArea(width = 11, height = 12):\n",
        "    area = width * height\n",
        "    print(\"width:\", width, \"\\theight:\", height, \"\\tarea:\", area)\n",
        "\n",
        "printArea() \n",
        "printArea(4, 2.5) # Positional arguments width = 4 and height = 2.5\n",
        "printArea(height = 5, width = 3) # Keyword arguments width \n",
        "printArea(width = 1.2) # Default height = 2\n",
        "printArea(height = 6.2) # Default widht = 1"
      ],
      "execution_count": 5,
      "outputs": [
        {
          "output_type": "stream",
          "text": [
            "width: 11 \theight: 12 \tarea: 132\n",
            "width: 4 \theight: 2.5 \tarea: 10.0\n",
            "width: 3 \theight: 5 \tarea: 15\n",
            "width: 1.2 \theight: 12 \tarea: 14.399999999999999\n",
            "width: 11 \theight: 6.2 \tarea: 68.2\n"
          ],
          "name": "stdout"
        }
      ]
    },
    {
      "cell_type": "markdown",
      "metadata": {
        "id": "d17xUTLXLQVx"
      },
      "source": [
        "[小小測驗]:執行下列程式並說明其結果"
      ]
    },
    {
      "cell_type": "code",
      "metadata": {
        "id": "V0eJuvzmLRzj",
        "outputId": "b2a647ae-db87-4449-f38a-51cc4e24ef56",
        "colab": {
          "base_uri": "https://localhost:8080/",
          "height": 85
        }
      },
      "source": [
        "#!/usr/bin/python \n",
        "# -*- coding: UTF-8 -*- \n",
        "\n",
        "def hello_3(greeting='Hello', name='world'): \n",
        "    print('{}, {}!'.format(greeting, name)) \n",
        "\n",
        "    \n",
        "hello_3() \n",
        "hello_3('Greetings') \n",
        "hello_3('Greetings', 'universe')\n",
        "hello_3(name='GGGGGGoood')"
      ],
      "execution_count": 6,
      "outputs": [
        {
          "output_type": "stream",
          "text": [
            "Hello, world!\n",
            "Greetings, world!\n",
            "Greetings, universe!\n",
            "Hello, GGGGGGoood!\n"
          ],
          "name": "stdout"
        }
      ]
    },
    {
      "cell_type": "markdown",
      "metadata": {
        "id": "iQb2wheoLUVW"
      },
      "source": [
        "[特別注意]要將字典dict型的資料傳給函數時,記得要使用"
      ]
    },
    {
      "cell_type": "code",
      "metadata": {
        "id": "a6ZgOlO0LV5X",
        "outputId": "fbd68dbb-da8d-4a22-af6f-d80a77c80c6e",
        "colab": {
          "base_uri": "https://localhost:8080/",
          "height": 34
        }
      },
      "source": [
        "params = {'name': 'Sir Simon Rattle', 'greeting': 'To my Great Conductor'}\n",
        "hello_3(**params)"
      ],
      "execution_count": 7,
      "outputs": [
        {
          "output_type": "stream",
          "text": [
            "To my Great Conductor, Sir Simon Rattle!\n"
          ],
          "name": "stdout"
        }
      ]
    },
    {
      "cell_type": "markdown",
      "metadata": {
        "id": "hIGAltw7LYuq"
      },
      "source": [
        "collectiong parameters(任意數量的參數):* 與 **\n",
        "如何撰寫擁有任意數量參數的函式:"
      ]
    },
    {
      "cell_type": "code",
      "metadata": {
        "id": "kH0ibJ_FLaRn",
        "outputId": "3122bac3-baa3-4dab-d2b3-22f4b5d2526b",
        "colab": {
          "base_uri": "https://localhost:8080/",
          "height": 119
        }
      },
      "source": [
        "def print_params(*params): \n",
        "    print(params) \n",
        "\n",
        "print_params('Testing') \n",
        "\n",
        "print_params(1, 2, 3) \n",
        "\n",
        "# return的是tuple資料型態\n",
        "\n",
        "#可和一般參數齊用\n",
        "\n",
        "def print_params_2(title, *params): \n",
        "    print(title) \n",
        "    print(params)\n",
        "\n",
        "print_params_2('Params:', 1, 2, 3)\n",
        "print_params_2('Nothing:')"
      ],
      "execution_count": 8,
      "outputs": [
        {
          "output_type": "stream",
          "text": [
            "('Testing',)\n",
            "(1, 2, 3)\n",
            "Params:\n",
            "(1, 2, 3)\n",
            "Nothing:\n",
            "()\n"
          ],
          "name": "stdout"
        }
      ]
    },
    {
      "cell_type": "markdown",
      "metadata": {
        "id": "TAzIWSUuLc_T"
      },
      "source": [
        "撰寫擁有任意數量參數的函式且要支援關鍵字參數==>使用**"
      ]
    },
    {
      "cell_type": "code",
      "metadata": {
        "id": "rfDQ4deSLe2b",
        "outputId": "e9b6fd90-c8b6-4a75-d10f-5a66d996d585",
        "colab": {
          "base_uri": "https://localhost:8080/",
          "height": 136
        }
      },
      "source": [
        "def print_params_3(**params): \n",
        "    print(params) \n",
        "\n",
        "print_params_3(x=1, y=2, z=3) \n",
        "\n",
        "# return的是dict(字典資料型態)\n",
        "\n",
        "def print_params_4(x, y, z=3, *pospar, **keypar): \n",
        "    print(x, y, z) \n",
        "    print(pospar) \n",
        "    print(keypar) \n",
        "\n",
        "print_params_4(1, 2, 4, 5, 6, 7, foo=1, bar=2)\n",
        "\n",
        "print_params_4(1, 2)\n"
      ],
      "execution_count": 9,
      "outputs": [
        {
          "output_type": "stream",
          "text": [
            "{'x': 1, 'y': 2, 'z': 3}\n",
            "1 2 4\n",
            "(5, 6, 7)\n",
            "{'foo': 1, 'bar': 2}\n",
            "1 2 3\n",
            "()\n",
            "{}\n"
          ],
          "name": "stdout"
        }
      ]
    },
    {
      "cell_type": "markdown",
      "metadata": {
        "id": "Sb1I5-gXLjnF"
      },
      "source": [
        "變數的有效範圍\n",
        "變數的有效範圍(Scope)：變數在程式可參考的範圍。\n",
        "\n",
        "區域變數(local variable):宣告在函式內部的變數\n",
        "\n",
        "全域變數(global variables):宣告在所有函式外部的變數"
      ]
    },
    {
      "cell_type": "code",
      "metadata": {
        "id": "_X_iGCdSLk_i",
        "outputId": "177d307c-0a65-4562-de96-873fdcf1c03b",
        "colab": {
          "base_uri": "https://localhost:8080/",
          "height": 136
        }
      },
      "source": [
        "\n",
        "\n",
        "x = 111\n",
        "\n",
        "def f1():\n",
        "    x = 222\n",
        "    print(x) \n",
        "\n",
        "f1()\n",
        "print(x)\n",
        "\n",
        "x = 1\n",
        "\n",
        "def increase():\n",
        "    global x\n",
        "    x =  x + 1\n",
        "    print(x) \n",
        "\n",
        "increase()\n",
        "print(x)\n",
        "increase()\n",
        "increase()\n",
        "print(x)"
      ],
      "execution_count": 12,
      "outputs": [
        {
          "output_type": "stream",
          "text": [
            "222\n",
            "111\n",
            "2\n",
            "2\n",
            "3\n",
            "4\n",
            "4\n"
          ],
          "name": "stdout"
        }
      ]
    },
    {
      "cell_type": "markdown",
      "metadata": {
        "id": "D8wdi8PdLzGP"
      },
      "source": [
        "[4]\n",
        "匿名函數==>lambda 運算式\n",
        "匿名函數==沒有函數名稱、臨時使用的小函數\n",
        "使用lambda 運算式來宣告匿名函數\n",
        "lambda 運算式只能包含一個運算式， 不允許複雜的語句，但運算式中可呼叫其他函數\n",
        "把lambda運算式當做函數"
      ]
    },
    {
      "cell_type": "code",
      "metadata": {
        "id": "eFbT6dmEL0n6",
        "outputId": "b8192b3f-31f9-4e8f-d185-dd36215e768e",
        "colab": {
          "base_uri": "https://localhost:8080/",
          "height": 34
        }
      },
      "source": [
        "f1 = lambda x, y, z: x+2*y+3*z\n",
        "print(f1(2,3,1))"
      ],
      "execution_count": 13,
      "outputs": [
        {
          "output_type": "stream",
          "text": [
            "11\n"
          ],
          "name": "stdout"
        }
      ]
    },
    {
      "cell_type": "markdown",
      "metadata": {
        "id": "X_nBFU5CL25H"
      },
      "source": [
        "###在lambda 運算式中呼叫其他函式(重要技術)"
      ]
    },
    {
      "cell_type": "code",
      "metadata": {
        "id": "-d23o4-VL4Lo"
      },
      "source": [
        "def myfunc(m):\n",
        "    return m*m\n",
        "\n",
        "my_list = [1, 3, 5, 7, 9]"
      ],
      "execution_count": 16,
      "outputs": []
    },
    {
      "cell_type": "markdown",
      "metadata": {
        "id": "IEN29fOUL7Dm"
      },
      "source": [
        "使用python的map()"
      ]
    },
    {
      "cell_type": "code",
      "metadata": {
        "id": "W2XxT7LUL8Jp",
        "outputId": "b9c3d2b5-62ad-43c6-bd79-c54103fd7915",
        "colab": {
          "base_uri": "https://localhost:8080/",
          "height": 34
        }
      },
      "source": [
        "map(lambda x:myfunc(x), my_list)"
      ],
      "execution_count": 15,
      "outputs": [
        {
          "output_type": "execute_result",
          "data": {
            "text/plain": [
              "<map at 0x7f199bf85908>"
            ]
          },
          "metadata": {
            "tags": []
          },
          "execution_count": 15
        }
      ]
    },
    {
      "cell_type": "markdown",
      "metadata": {
        "id": "DZd-3qXEMDt1"
      },
      "source": [
        "遞迴函式 ==> recursive vs iterative(loop)\n",
        "[程式開發作業]費氏數列\n",
        "[程式開發作業]1+2+3+....+n\n",
        "[程式開發作業]n!\n",
        "[程式開發作業]x的n次方\n",
        "[程式開發作業]二項係數\n",
        "[程式開發作業][Ackermann函式](https://en.wikipedia.org/wiki/Ackermann_function)\n",
        "[程式開發作業]河內塔\n",
        "[程式開發作業]八皇后問題\n",
        "[程式開發作業]binary search二元搜尋法\n",
        "費氏數列\n",
        "費氏數列Fibonacci sequence又稱黃金分割數列\n",
        "0、1、1、2、3、5、8、13、21、34、……。\n",
        "\n",
        "在數學上，費波那契數列是以遞迴的方法來定義：\n",
        "F(0) = 0    (n=0)\n",
        "F(1) = 1    (n=1)\n",
        "F(n) = F(n-1)+ F(n-2)(n=>2)"
      ]
    },
    {
      "cell_type": "markdown",
      "metadata": {
        "id": "U_eMTQ5HMGCd"
      },
      "source": [
        "方法一:使用 recursive"
      ]
    },
    {
      "cell_type": "code",
      "metadata": {
        "id": "VYXHlugDMHgC",
        "outputId": "63e6da7b-c1b3-4ec5-bde1-d68fdff2e4ee",
        "colab": {
          "base_uri": "https://localhost:8080/",
          "height": 34
        }
      },
      "source": [
        "#!/usr/bin/python\n",
        "# -*- coding: UTF-8 -*-\n",
        "\n",
        "def fib(n):\n",
        "    if n==1 or n==2:\n",
        "        return 1\n",
        "    return fib(n-1)+fib(n-2)\n",
        "\n",
        "print(fib(10))"
      ],
      "execution_count": 17,
      "outputs": [
        {
          "output_type": "stream",
          "text": [
            "55\n"
          ],
          "name": "stdout"
        }
      ]
    },
    {
      "cell_type": "markdown",
      "metadata": {
        "id": "-CAXGTklMJkV"
      },
      "source": [
        "方法二:使用 iterative\"\"\""
      ]
    },
    {
      "cell_type": "code",
      "metadata": {
        "id": "NduGM_DpMLHP",
        "outputId": "20a310dd-870a-49f6-993c-6397763ec526",
        "colab": {
          "base_uri": "https://localhost:8080/",
          "height": 34
        }
      },
      "source": [
        "#!/usr/bin/python\n",
        "# -*- coding: UTF-8 -*-\n",
        " \n",
        "def fib(n):\n",
        "    a,b = 1,1\n",
        "    for i in range(n-1):\n",
        "        a,b = b,a+b\n",
        "    return a\n",
        " \n",
        "\n",
        "print(fib(10))"
      ],
      "execution_count": 18,
      "outputs": [
        {
          "output_type": "stream",
          "text": [
            "55\n"
          ],
          "name": "stdout"
        }
      ]
    },
    {
      "cell_type": "markdown",
      "metadata": {
        "id": "4dd5LiDMMNkS"
      },
      "source": [
        "###【Python 練習實例28】\n",
        "\n",
        "有5個人坐在一起，\n",
        "問第五個人多少歲？他說比第4個人大2歲。\n",
        "問第4個人歲數，他說比第3個人大2歲。\n",
        "問第三個人，又說比第2人大兩歲。\n",
        "問第2個人，說比第一個人大兩歲。\n",
        "最後問第一個人，他說是10歲。\n",
        "請問第五個人多大？\n",
        "問題:要如何知道函數被呼叫的次數??\n",
        "遞迴函式的呼叫次數==>全域變數的應用"
      ]
    },
    {
      "cell_type": "code",
      "metadata": {
        "id": "eIlAq41XMPek",
        "outputId": "45d3a09d-6da9-4e41-9a56-74935e7cb9e3",
        "colab": {
          "base_uri": "https://localhost:8080/",
          "height": 187
        }
      },
      "source": [
        "#!/usr/bin/python\n",
        "# -*- coding: UTF-8 -*-\n",
        "\n",
        "def fib(x):\t\n",
        "\tglobal numFibCalls\n",
        "\tnumFibCalls += 1\n",
        "\t\n",
        "\tif x == 0 or x == 1:\n",
        "           return 1\n",
        "\telse:\n",
        "          return fib(x-1) + fib(x-2)\n",
        "\n",
        "def testFib(n):\n",
        "\tfor i in range(n+1):\n",
        "          global numFibCalls\n",
        "          numFibCalls = 0\n",
        "          print('fib of', i, '=', fib(i))\n",
        "          print('fib called', numFibCalls, 'times.')\n",
        "\n",
        "testFib(4)"
      ],
      "execution_count": 19,
      "outputs": [
        {
          "output_type": "stream",
          "text": [
            "fib of 0 = 1\n",
            "fib called 1 times.\n",
            "fib of 1 = 1\n",
            "fib called 1 times.\n",
            "fib of 2 = 2\n",
            "fib called 3 times.\n",
            "fib of 3 = 3\n",
            "fib called 5 times.\n",
            "fib of 4 = 5\n",
            "fib called 9 times.\n"
          ],
          "name": "stdout"
        }
      ]
    },
    {
      "cell_type": "markdown",
      "metadata": {
        "id": "ptXczdobMSRH"
      },
      "source": [
        "[5]Python內建函數==>Built-in Functions:\n",
        "https://docs.python.org/2/library/functions.html\n",
        "https://www.programiz.com/python-programming/methods/built-in\n",
        "hex(x):Convert an integer number to a lowercase hexadecimal string prefixed with “0x”"
      ]
    },
    {
      "cell_type": "code",
      "metadata": {
        "id": "s7JfqJQ-MUHJ",
        "outputId": "c45789ed-028d-4793-f3a8-26f2b72fb200",
        "colab": {
          "base_uri": "https://localhost:8080/",
          "height": 35
        }
      },
      "source": [
        "hex(255)\n",
        "\n",
        "hex(-42)\n",
        "\n",
        "\"\"\"### oct(x):Convert an integer number to an octal string prefixed with “0o”\"\"\"\n",
        "\n",
        "oct(8)\n",
        "\n",
        "oct(-56)\n",
        "\n",
        "\"\"\"### bin(x):Convert an integer number to a binary string prefixed with “0b”\"\"\"\n",
        "\n",
        "bin(3)\n",
        "\n",
        "bin(-10)"
      ],
      "execution_count": 20,
      "outputs": [
        {
          "output_type": "execute_result",
          "data": {
            "application/vnd.google.colaboratory.intrinsic+json": {
              "type": "string"
            },
            "text/plain": [
              "'-0b1010'"
            ]
          },
          "metadata": {
            "tags": []
          },
          "execution_count": 20
        }
      ]
    }
  ]
}