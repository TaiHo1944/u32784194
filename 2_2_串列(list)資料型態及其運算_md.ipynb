{
  "nbformat": 4,
  "nbformat_minor": 0,
  "metadata": {
    "colab": {
      "name": "2_2_串列(list)資料型態及其運算.md",
      "provenance": [],
      "authorship_tag": "ABX9TyN/bSo/j6HsJcitTGQsp+DC",
      "include_colab_link": true
    },
    "kernelspec": {
      "name": "python3",
      "display_name": "Python 3"
    }
  },
  "cells": [
    {
      "cell_type": "markdown",
      "metadata": {
        "id": "view-in-github",
        "colab_type": "text"
      },
      "source": [
        "<a href=\"https://colab.research.google.com/github/TaiHo1944/u32784194/blob/master/2_2_%E4%B8%B2%E5%88%97(list)%E8%B3%87%E6%96%99%E5%9E%8B%E6%85%8B%E5%8F%8A%E5%85%B6%E9%81%8B%E7%AE%97_md.ipynb\" target=\"_parent\"><img src=\"https://colab.research.google.com/assets/colab-badge.svg\" alt=\"Open In Colab\"/></a>"
      ]
    },
    {
      "cell_type": "markdown",
      "metadata": {
        "id": "qA0MoQ0xRua2"
      },
      "source": [
        "列表|串列(list)資料型態及其運算\n",
        "Python Arrays??\n",
        "Python does not have built-in support for Arrays, but Python Lists can be used instead.\n",
        "\n",
        "For details please see below\n",
        "\n",
        "https://www.w3schools.com/python/python_arrays.asp\n",
        "\n",
        "建立list"
      ]
    },
    {
      "cell_type": "code",
      "metadata": {
        "id": "P9U-94nxRouj"
      },
      "source": [
        "# -*- coding: utf-8 -*-\n",
        "\n",
        "list1 = list() "
      ],
      "execution_count": 1,
      "outputs": []
    },
    {
      "cell_type": "code",
      "metadata": {
        "id": "UpUkiKdZRysQ"
      },
      "source": [
        "list2 = list([2, 3, 4])"
      ],
      "execution_count": 2,
      "outputs": []
    },
    {
      "cell_type": "code",
      "metadata": {
        "id": "Q7794Na9R0Mv"
      },
      "source": [
        "list2 = [2, 3, 4] "
      ],
      "execution_count": 3,
      "outputs": []
    },
    {
      "cell_type": "code",
      "metadata": {
        "id": "3LsqzkCtR1yf"
      },
      "source": [
        "list3 = list([\"red\", \"green\", \"blue\"]) \n",
        "list4 = list(range(3, 6))\n",
        "list5 = list(\"abcd\") "
      ],
      "execution_count": 4,
      "outputs": []
    },
    {
      "cell_type": "code",
      "metadata": {
        "id": "6gxCOA4JR3Ag",
        "outputId": "90b0ba3b-f04b-420c-af9e-f9765038eefd",
        "colab": {
          "base_uri": "https://localhost:8080/",
          "height": 34
        }
      },
      "source": [
        "\n",
        "list1 = list() \n",
        "list1\n",
        "\n",
        "list3 = list([\"red\", \"green\", \"blue\"])\n",
        "list3\n",
        "\n",
        "list4 = list(range(3, 6))\n",
        "list4\n"
      ],
      "execution_count": 5,
      "outputs": [
        {
          "output_type": "execute_result",
          "data": {
            "text/plain": [
              "[3, 4, 5]"
            ]
          },
          "metadata": {
            "tags": []
          },
          "execution_count": 5
        }
      ]
    },
    {
      "cell_type": "markdown",
      "metadata": {
        "id": "OzQnRopkR5qj"
      },
      "source": [
        "List的各種運算(1)\n",
        "下列範例會產生何種結果"
      ]
    },
    {
      "cell_type": "code",
      "metadata": {
        "id": "4MD4mUDkR7u6",
        "outputId": "92add834-64ab-4c09-870d-5916a3640971",
        "colab": {
          "base_uri": "https://localhost:8080/",
          "height": 34
        }
      },
      "source": [
        "list1 = [21, 33, 14, 12, 32,98]\n",
        "\n",
        "len(list1)\n",
        "max(list1)\n",
        "min(list1)\n",
        "sum(list1)"
      ],
      "execution_count": 6,
      "outputs": [
        {
          "output_type": "execute_result",
          "data": {
            "text/plain": [
              "210"
            ]
          },
          "metadata": {
            "tags": []
          },
          "execution_count": 6
        }
      ]
    },
    {
      "cell_type": "code",
      "metadata": {
        "id": "Lbdos7SHR9B3",
        "outputId": "52bf32dd-96ca-4800-c0ef-df2593193c2b",
        "colab": {
          "base_uri": "https://localhost:8080/",
          "height": 34
        }
      },
      "source": [
        "\n",
        "list1 = [21, 33, 14, 12, 32,98]\n",
        "len(list1)"
      ],
      "execution_count": 7,
      "outputs": [
        {
          "output_type": "execute_result",
          "data": {
            "text/plain": [
              "6"
            ]
          },
          "metadata": {
            "tags": []
          },
          "execution_count": 7
        }
      ]
    },
    {
      "cell_type": "markdown",
      "metadata": {
        "id": "-dr5c_eTR_k7"
      },
      "source": [
        "List的各種運算(2)串列的加法|乘法運算\n",
        "下列範例會產生何種結果"
      ]
    },
    {
      "cell_type": "code",
      "metadata": {
        "id": "-VjpDcdySAnF",
        "outputId": "c6c201cd-8577-4418-d0b0-bb379dd31e62",
        "colab": {
          "base_uri": "https://localhost:8080/",
          "height": 34
        }
      },
      "source": [
        "list1 = [21, 23, 25]\n",
        "list2 = [11, 92]\n",
        "\n",
        "list3 = list1 + list2\n",
        "list3\n",
        "list4 = 3 * list1\n",
        "list4"
      ],
      "execution_count": 8,
      "outputs": [
        {
          "output_type": "execute_result",
          "data": {
            "text/plain": [
              "[21, 23, 25, 21, 23, 25, 21, 23, 25]"
            ]
          },
          "metadata": {
            "tags": []
          },
          "execution_count": 8
        }
      ]
    },
    {
      "cell_type": "markdown",
      "metadata": {
        "id": "aKGj6IXXSCnc"
      },
      "source": [
        "List的各種運算(3)切片運算(Slice)"
      ]
    },
    {
      "cell_type": "code",
      "metadata": {
        "id": "M464oCBeSDoj",
        "outputId": "ba0062e2-1e8d-4c63-d2f7-ba27d6ca5217",
        "colab": {
          "base_uri": "https://localhost:8080/",
          "height": 34
        }
      },
      "source": [
        "list5 = list3[2:4]\n",
        "list5"
      ],
      "execution_count": 9,
      "outputs": [
        {
          "output_type": "execute_result",
          "data": {
            "text/plain": [
              "[25, 11]"
            ]
          },
          "metadata": {
            "tags": []
          },
          "execution_count": 9
        }
      ]
    },
    {
      "cell_type": "markdown",
      "metadata": {
        "id": "tHBlzxZxSFMv"
      },
      "source": [
        "list的還有各種函數:\n",
        "加一元素到串列的尾端:append()\n",
        "回傳元素x 出現於串列的次數:count()\n",
        "附加在l中所有元素於串列:extend()\n",
        "回傳在串列中第一次出現元素x的索引:index()\n",
        "將串列中的元素加以反轉:reverse()\n",
        "由小至大排序串列中的元素:sort()\n",
        "list的超強大功能:序列拆解"
      ]
    },
    {
      "cell_type": "code",
      "metadata": {
        "id": "Vdg3DgJpSGLn",
        "outputId": "badee723-8452-4df5-bb72-68e710ce5df8",
        "colab": {
          "base_uri": "https://localhost:8080/",
          "height": 34
        }
      },
      "source": [
        "a=[12,212,321,325]\n",
        "x,y,z,k = a\n",
        "z\n"
      ],
      "execution_count": 10,
      "outputs": [
        {
          "output_type": "execute_result",
          "data": {
            "text/plain": [
              "321"
            ]
          },
          "metadata": {
            "tags": []
          },
          "execution_count": 10
        }
      ]
    },
    {
      "cell_type": "markdown",
      "metadata": {
        "id": "8KCPTkM8SH9A"
      },
      "source": [
        "List comprehension 列表推導式: list的超強大功能\n",
        "A list comprehension consists of brackets containing an expression followed by a for clause, \n",
        "then zero or more for or if clauses. \n",
        "The result will be a new list resulting from evaluating the expression \n",
        "in the context of the for and if clauses which follow it. \n",
        "\n",
        "https://en.wikipedia.org/wiki/List_comprehension"
      ]
    },
    {
      "cell_type": "code",
      "metadata": {
        "id": "PAJlrHcPSKKe",
        "outputId": "4e7aba91-57b7-45e2-b63d-a55468087099",
        "colab": {
          "base_uri": "https://localhost:8080/",
          "height": 34
        }
      },
      "source": [
        "list1 = [x for x in range(0,5)] \n",
        "list1\n",
        "\n",
        "list2 = [0.5 * x for x in list1] \n",
        "list2\n",
        "\n",
        "list3 = [x for x in list2 if x <= 1.5]\n",
        "list3"
      ],
      "execution_count": 11,
      "outputs": [
        {
          "output_type": "execute_result",
          "data": {
            "text/plain": [
              "[0.0, 0.5, 1.0, 1.5]"
            ]
          },
          "metadata": {
            "tags": []
          },
          "execution_count": 11
        }
      ]
    },
    {
      "cell_type": "markdown",
      "metadata": {
        "id": "6Y4YfWxeSMSX"
      },
      "source": [
        "List comprehension�列表推導式的應用\n",
        "阿基米德與圓王比賽下棋， 國王說要是自己輸了的 話，阿基米德想要什麼他都可以拿得出來。 阿基米德說那就要點米吧！ \n",
        "棋盤一共 64 個小格子，在第一個格子放 l粒米，第二個格子放 2 粒米，第三個格子放 4 粒米，第四個格子放 8粒米，餘依此頡推，\n",
        "後面每個格子的米都是前一個格子的 2 倍，一直把 64 個格子都放滿。\n",
        "\n",
        "到底需要多少粒米呢"
      ]
    },
    {
      "cell_type": "code",
      "metadata": {
        "id": "Z0arevlqSNe-",
        "outputId": "d136e065-6764-4f47-ccf3-7c540c100d23",
        "colab": {
          "base_uri": "https://localhost:8080/",
          "height": 34
        }
      },
      "source": [
        "sum([2**i for i in range(5)])\n",
        "\n",
        "sum([2**i for i in range(64)])"
      ],
      "execution_count": 12,
      "outputs": [
        {
          "output_type": "execute_result",
          "data": {
            "text/plain": [
              "18446744073709551615"
            ]
          },
          "metadata": {
            "tags": []
          },
          "execution_count": 12
        }
      ]
    }
  ]
}